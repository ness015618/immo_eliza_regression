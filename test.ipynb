{
 "cells": [
  {
   "cell_type": "markdown",
   "metadata": {},
   "source": [
    "# Step 1 : data cleaning\n",
    "\n",
    "No duplicates, no NANs, no text data, no features that have too strong correlation between them."
   ]
  },
  {
   "cell_type": "code",
   "execution_count": 65,
   "metadata": {},
   "outputs": [],
   "source": [
    "import pandas as pd\n",
    "import numpy as np\n",
    "from sklearn.experimental import enable_iterative_imputer\n",
    "from sklearn.impute import IterativeImputer\n",
    "from sklearn.impute import KNNImputer\n",
    "\n",
    "df = pd.read_csv(\"../final_dataset.csv\")"
   ]
  },
  {
   "cell_type": "markdown",
   "metadata": {},
   "source": [
    "## No duplicates\n",
    "\n",
    "All 118714 rows have distinct urls, so I don't think there are any duplicates in rows."
   ]
  },
  {
   "cell_type": "markdown",
   "metadata": {},
   "source": [
    "## No text data\n",
    "\n",
    "We'll use mapping to turn categorical data into numerical data. (First, we arrange the categories in ascending order.)"
   ]
  },
  {
   "cell_type": "code",
   "execution_count": 66,
   "metadata": {},
   "outputs": [],
   "source": [
    "subtype_mapping = {\n",
    "    'flat_studio': 1,\n",
    "    'kot': 2,\n",
    "    'apartment': 3,\n",
    "    'service_flat': 4,\n",
    "    'ground_floor': 5,\n",
    "    'loft': 6,\n",
    "    'duplex': 7,\n",
    "    'house': 8,\n",
    "    'bungalow': 9,\n",
    "    'country_cottage': 10,\n",
    "    'town_house': 11,\n",
    "    'chalet': 12,\n",
    "    'villa': 13,\n",
    "    'penthouse': 14,\n",
    "    'triplex': 15,\n",
    "    'mixed_use_building': 16,\n",
    "    'apartment_block': 17,\n",
    "    'farmhouse': 18,\n",
    "    'pavilion': 19,\n",
    "    'show_house': 20,\n",
    "    'mansion': 21,\n",
    "    'exceptional_property': 22,\n",
    "    'manor_house': 23,\n",
    "    'castle': 24,\n",
    "    'other_property': 25\n",
    "}\n",
    "\n",
    "type_of_sale_mapping = {\n",
    "    'residential_sale' : 0,   \n",
    "    'annuity_without_lump_sum' : 0,       \n",
    "    'annuity_lump_sum' : 0,                 \n",
    "    'homes_to_build' : 0,   \n",
    "    'residential_monthly_rent' : 1, \n",
    "    'annuity_monthly_amount' : 2       \n",
    "}\n",
    "\n",
    "PEB_mapping = {\n",
    "    'NO_DATA': 0,\n",
    "    'G': 1, \n",
    "    'G_C': 1,\n",
    "    'G_F': 1,  \n",
    "    'F': 2,\n",
    "    'F_C': 2,\n",
    "    'F_D': 2,\n",
    "    'F_E': 2,\n",
    "    'E': 3,\n",
    "    'E_C': 3,\n",
    "    'E_D': 3,\n",
    "    'D': 4,\n",
    "    'C': 5,\n",
    "    'B': 6,\n",
    "    'B_A': 6,\n",
    "    'A': 7,\n",
    "    'A_A+': 7,\n",
    "    'A+': 8,\n",
    "    'A++': 9     \n",
    "}\n",
    "\n",
    "kitchen_mapping = {\n",
    "    'NO_DATA' : 0,\n",
    "    'NOT_INSTALLED': 1,\n",
    "    'USA_UNINSTALLED': 2,\n",
    "    'SEMI_EQUIPPED': 3,\n",
    "    'USA_SEMI_EQUIPPED': 4,\n",
    "    'INSTALLED': 5,\n",
    "    'USA_INSTALLED': 6,\n",
    "    'HYPER_EQUIPPED': 7,\n",
    "    'USA_HYPER_EQUIPPED': 8\n",
    "}\n",
    "\n",
    "state_of_building_mapping = {\n",
    "    'NO_DATA' : 0,\n",
    "    'TO_RESTORE' : 1,\n",
    "    'TO_RENOVATE' : 2,\n",
    "    'TO_BE_DONE_UP' : 3,\n",
    "    'GOOD' : 4,\n",
    "    'AS_NEW' : 5,\n",
    "    'JUST_RENOVATED' : 6\n",
    "}\n",
    "\n",
    "region_mapping = {\n",
    "    'Wallonie' : 1,\n",
    "    'Flanders' : 2,  \n",
    "    'Brussels' : 3   \n",
    "}\n",
    "\n",
    "province_mapping = {\n",
    "    'Hainaut' : 1,\n",
    "    'Liège' : 2,\n",
    "    'Luxembourg' : 3,\n",
    "    'Namur' : 4,\n",
    "    'Walloon Brabant' : 5,\n",
    "    'Limburg' : 6,\n",
    "    'East Flanders': 7,\n",
    "    'Flemish Brabant': 8,\n",
    "    'Antwerp': 9,\n",
    "    'West Flanders' : 10,\n",
    "    'Brussels' : 11\n",
    "}\n",
    "\n",
    "df['SubtypeOfProperty_num'] = df['SubtypeOfProperty'].map(subtype_mapping)\n",
    "\n",
    "df['TypeOfSale_num'] = df['TypeOfSale'].map(type_of_sale_mapping)\n",
    "\n",
    "df['PEB'] = df['PEB'].fillna('NO_DATA')\n",
    "df['PEB_num'] = df['PEB'].map(PEB_mapping)\n",
    "\n",
    "df['Kitchen'] = df['Kitchen'].fillna('NO_DATA')\n",
    "df['Kitchen_num'] = df['Kitchen'].map(kitchen_mapping)\n",
    "\n",
    "df['StateOfBuilding'] = df['StateOfBuilding'].fillna('NO_DATA')     \n",
    "df['StateOfBuilding_num'] = df['StateOfBuilding'].map(state_of_building_mapping)       \n",
    "\n",
    "data = pd.DataFrame(df[\"LivingArea\"])\n",
    "living_area_imputer = IterativeImputer(random_state=0)\n",
    "data_imputed = pd.DataFrame(living_area_imputer.fit_transform(data), columns=[\"LivingArea\"])\n",
    "df[\"LivingArea\"] = data_imputed[\"LivingArea\"].astype(\"int32\")\n",
    "\n",
    "df = df.dropna(subset=['Region','Province']) \n",
    "df['Region_num'] = df['Region'].map(region_mapping)   \n",
    "df['Province_num'] = df['Province'].map(province_mapping)                            "
   ]
  },
  {
   "cell_type": "markdown",
   "metadata": {},
   "source": [
    "## No NAN\n",
    "Regarding missing values, depending on the nature of the feature, we'll either replace them with 0 or impute them."
   ]
  },
  {
   "cell_type": "code",
   "execution_count": 67,
   "metadata": {},
   "outputs": [],
   "source": [
    "fill_with_zeros = ['Furnished','Garden','Fireplace','SwimmingPool','Terrace','ToiletCount','ShowerCount','SurfaceOfPlot']\n",
    "for i in fill_with_zeros:\n",
    "    df[i] = df[i].fillna(0)\n",
    "\n",
    "df.loc[df['Garden'] == 0, 'GardenArea'] = 0"
   ]
  },
  {
   "cell_type": "markdown",
   "metadata": {},
   "source": [
    "## Column removing\n",
    "\n",
    "We'll remove columns that provide a redundant information or are categorical and save the cleaned dataset."
   ]
  },
  {
   "cell_type": "code",
   "execution_count": 68,
   "metadata": {},
   "outputs": [],
   "source": [
    "df = df.drop(columns=['Url','Country','BathroomCount','Garden','Kitchen','Locality','PEB','PostalCode','PropertyId','RoomCount','ShowerCount','StateOfBuilding','SubtypeOfProperty','TypeOfSale','Province','District','ConstructionYear','Fireplace','MonthlyCharges','ToiletCount','Terrace','Furnished','SwimmingPool','FloodingZone'])\n",
    "clean_data.to_csv(\"clean_data.csv\")"
   ]
  },
  {
   "cell_type": "code",
   "execution_count": null,
   "metadata": {},
   "outputs": [],
   "source": [
    "df"
   ]
  }
 ],
 "metadata": {
  "kernelspec": {
   "display_name": "Python 3",
   "language": "python",
   "name": "python3"
  },
  "language_info": {
   "codemirror_mode": {
    "name": "ipython",
    "version": 3
   },
   "file_extension": ".py",
   "mimetype": "text/x-python",
   "name": "python",
   "nbconvert_exporter": "python",
   "pygments_lexer": "ipython3",
   "version": "3.12.3"
  }
 },
 "nbformat": 4,
 "nbformat_minor": 2
}
